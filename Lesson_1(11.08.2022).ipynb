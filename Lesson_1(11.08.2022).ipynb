{
  "nbformat": 4,
  "nbformat_minor": 0,
  "metadata": {
    "colab": {
      "name": "Untitled2.ipynb",
      "provenance": [],
      "collapsed_sections": [],
      "authorship_tag": "ABX9TyMae6LagwSTu17QMwHxWNX8",
      "include_colab_link": true
    },
    "kernelspec": {
      "name": "python3",
      "display_name": "Python 3"
    },
    "language_info": {
      "name": "python"
    }
  },
  "cells": [
    {
      "cell_type": "markdown",
      "metadata": {
        "id": "view-in-github",
        "colab_type": "text"
      },
      "source": [
        "<a href=\"https://colab.research.google.com/github/Maklakov1989/PyThon-lessons/blob/master/Lesson_1(11.08.2022).ipynb\" target=\"_parent\"><img src=\"https://colab.research.google.com/assets/colab-badge.svg\" alt=\"Open In Colab\"/></a>"
      ]
    },
    {
      "cell_type": "markdown",
      "source": [
        "Напишите программу, которая принимает на вход цифру, обозначающую день недели, и проверяет, является ли этот день выходным.\n",
        "\n",
        "Пример:\n",
        "\n",
        "- 6 -> да\n",
        "- 7 -> да\n",
        "- 1 -> нет"
      ],
      "metadata": {
        "id": "yU-tULqm0SmU"
      }
    },
    {
      "cell_type": "code",
      "source": [
        "day = int(input('Введите цифру, обозначающию день недели: '))\n",
        "if day == 6 or day == 7:\n",
        "  print(f'Вы ввели цифру {day}, это выходной день')\n",
        "else: \n",
        "  print(f'Вы ввели цифру {day}, это рабочий день')"
      ],
      "metadata": {
        "id": "yYC7ih_Gz_bP"
      },
      "execution_count": null,
      "outputs": []
    },
    {
      "cell_type": "markdown",
      "source": [
        "2.1. Напишите программу, которая принимает на вход координаты точки (X и Y), причём X ≠ 0 и Y ≠ 0 и выдаёт номер четверти плоскости, в которой находится эта точка (или на какой оси она находится).\n",
        "\n",
        "Пример:\n",
        "\n",
        "- x=34; y=-30 -> 4\n",
        "- x=2; y=4-> 1\n",
        "- x=-34; y=-30 -> 3"
      ],
      "metadata": {
        "id": "OcoNjb251JCo"
      }
    },
    {
      "cell_type": "markdown",
      "source": [
        "2.2. Напишите программу, которая по заданному номеру четверти, показывает диапазон возможных координат точек в этой четверти (x и y)."
      ],
      "metadata": {
        "id": "4yZ3sj-d51C1"
      }
    },
    {
      "cell_type": "code",
      "source": [
        "x = int(input('Введите координаты по оси X не равные 0: '))\n",
        "y = int(input('Введите координаты по оси Y не равные 0: '))\n",
        "x_range = []\n",
        "y_range = []\n",
        "if x > 0 and y > 0:\n",
        "  for el_1 in range(0, x+1):\n",
        "    x_range.append(el_1)\n",
        "  for el_2 in range(0, y+1):\n",
        "    y_range.append(el_2)\n",
        "  print(f'Заданная точка находится в I четверти плоскости, диапазан координт x:', (*x_range),' диапазан координт y:', (*y_range))\n",
        "elif x < 0 and y > 0:\n",
        "  for el_1 in range(x, 0+1):\n",
        "    x_range.append(el_1)\n",
        "  for el_2 in range(0, y+1):\n",
        "    y_range.append(el_2)\n",
        "  print('Заданная точка находится в II четверти плоскости, диапазан координт x:', (*x_range),' диапазан координт y:', (*y_range))\n",
        "elif x < 0 and y < 0:\n",
        "  for el_1 in range(x, 0+1):\n",
        "    x_range.append(el_1)\n",
        "  for el_2 in range(y, 0+1):\n",
        "    y_range.append(el_2)\n",
        "  print('Заданная точка находится в III четверти плоскости, диапазан координт x:', (*x_range),' диапазан координт y:', (*y_range))\n",
        "else:\n",
        "  for el_1 in range(0, x+1):\n",
        "    x_range.append(el_1)\n",
        "  for el_2 in range(y, 0+1):\n",
        "    y_range.append(el_2)\n",
        "  print('Заданная точка находится в IV четверти плоскости, диапазан координт x:', (*x_range),' диапазан координт y:', (*y_range))\n"
      ],
      "metadata": {
        "id": "T3UE-_2d3Sr3"
      },
      "execution_count": null,
      "outputs": []
    },
    {
      "cell_type": "markdown",
      "source": [
        "Напишите программу, которая принимает на вход координаты двух точек и находит расстояние между ними в 2D пространстве.\n",
        "\n",
        "Пример:\n",
        "\n",
        "- A (3,6); B (2,1) -> 5,09\n",
        "- A (7,-5); B (1,-1) -> 7,21"
      ],
      "metadata": {
        "id": "iDdHrtww96DJ"
      }
    },
    {
      "cell_type": "code",
      "source": [
        "import math\n",
        "a = (input('Введите координаты по точки A по оси x и по оси y через пробел: '))\n",
        "a = list(a.split(' '))\n",
        "a_int_list = []\n",
        "for i in a:\n",
        "    i = int(i)\n",
        "    a_int_list.append(i)\n",
        "b = (input('Введите координаты по точки B по оси x и по оси y через пробел: '))\n",
        "b = list(b.split(' '))\n",
        "b_int_list = []\n",
        "for i in b:\n",
        "    i = int(i)\n",
        "    b_int_list.append(i)\n",
        "ab = round(math.sqrt((a_int_list[0] - b_int_list[0])**2+(a_int_list[1] - b_int_list[1])**2), 2)\n",
        "print(ab)"
      ],
      "metadata": {
        "colab": {
          "base_uri": "https://localhost:8080/"
        },
        "id": "V_8OZ4Xj98Hv",
        "outputId": "8786f1ad-70a0-4cc6-c225-ab9afebc852b"
      },
      "execution_count": 30,
      "outputs": [
        {
          "output_type": "stream",
          "name": "stdout",
          "text": [
            "Введите координаты по точки A по оси x и по оси y через пробел: 7 -5\n",
            "Введите координаты по точки B по оси x и по оси y через пробел: 1 -1\n",
            "7.21\n"
          ]
        }
      ]
    }
  ]
}