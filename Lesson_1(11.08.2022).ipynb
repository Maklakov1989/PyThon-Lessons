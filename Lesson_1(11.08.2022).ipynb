{
  "nbformat": 4,
  "nbformat_minor": 0,
  "metadata": {
    "colab": {
      "name": "Untitled2.ipynb",
      "provenance": [],
      "collapsed_sections": [],
      "authorship_tag": "ABX9TyP7i6Uh7rbGRiPSQOLwd4fq",
      "include_colab_link": true
    },
    "kernelspec": {
      "name": "python3",
      "display_name": "Python 3"
    },
    "language_info": {
      "name": "python"
    }
  },
  "cells": [
    {
      "cell_type": "markdown",
      "metadata": {
        "id": "view-in-github",
        "colab_type": "text"
      },
      "source": [
        "<a href=\"https://colab.research.google.com/github/Maklakov1989/PyThon-lessons/blob/master/Lesson_1(11.08.2022).ipynb\" target=\"_parent\"><img src=\"https://colab.research.google.com/assets/colab-badge.svg\" alt=\"Open In Colab\"/></a>"
      ]
    },
    {
      "cell_type": "markdown",
      "source": [
        "# **ДЗ 1**"
      ],
      "metadata": {
        "id": "KtsWa4aRioD2"
      }
    },
    {
      "cell_type": "markdown",
      "source": [
        "1.1. Напишите программу, которая принимает на вход цифру, обозначающую день недели, и проверяет, является ли этот день выходным.\n",
        "\n",
        "Пример:\n",
        "\n",
        "- 6 -> да\n",
        "- 7 -> да\n",
        "- 1 -> нет"
      ],
      "metadata": {
        "id": "yU-tULqm0SmU"
      }
    },
    {
      "cell_type": "code",
      "source": [
        "day = int(input('Введите цифру, обозначающию день недели: '))\n",
        "if day == 6 or day == 7:\n",
        "  print(f'Вы ввели цифру {day}, это выходной день')\n",
        "else: \n",
        "  print(f'Вы ввели цифру {day}, это рабочий день')"
      ],
      "metadata": {
        "id": "yYC7ih_Gz_bP"
      },
      "execution_count": null,
      "outputs": []
    },
    {
      "cell_type": "markdown",
      "source": [
        "1.2. Напишите программу для проверки истинности утверждения ¬(X ⋁ Y ⋁ Z) = ¬X ⋀ ¬Y ⋀ ¬Z для всех значений предикат."
      ],
      "metadata": {
        "id": "ZjSiu6eGEhq2"
      }
    },
    {
      "cell_type": "code",
      "source": [
        "def logical_statement(x, y, z):\n",
        "    print(f\"¬({x} ⋁ {y} ⋁ {z}) = ¬{x} ⋀ ¬{y} ⋀ ¬{z} is {(not (x or y or z)) == (not x and not y and not z)}\")\n",
        "    return (not (x or y or z)) == (not x and not y and not z)\n",
        "if (logical_statement(0, 0, 0) and logical_statement(0, 0, 1) and logical_statement(0, 1, 0) and \n",
        "logical_statement(0, 1, 1) and logical_statement(1, 0, 0) and logical_statement(1, 0, 1) and\n",
        "logical_statement(1, 1, 0) and logical_statement(1, 1, 1)):\n",
        "    print(\"Истинно\")\n",
        "else:\n",
        "    print(\"Ложно\")"
      ],
      "metadata": {
        "id": "ILq8Je33Eo2N"
      },
      "execution_count": null,
      "outputs": []
    },
    {
      "cell_type": "markdown",
      "source": [
        "2.1. Напишите программу, которая принимает на вход координаты точки (X и Y), причём X ≠ 0 и Y ≠ 0 и выдаёт номер четверти плоскости, в которой находится эта точка (или на какой оси она находится).\n",
        "\n",
        "Пример:\n",
        "\n",
        "- x=34; y=-30 -> 4\n",
        "- x=2; y=4-> 1\n",
        "- x=-34; y=-30 -> 3"
      ],
      "metadata": {
        "id": "OcoNjb251JCo"
      }
    },
    {
      "cell_type": "markdown",
      "source": [
        "2.2. Напишите программу, которая по заданному номеру четверти, показывает диапазон возможных координат точек в этой четверти (x и y)."
      ],
      "metadata": {
        "id": "4yZ3sj-d51C1"
      }
    },
    {
      "cell_type": "code",
      "source": [
        "x = int(input('Введите координаты по оси X не равные 0: '))\n",
        "y = int(input('Введите координаты по оси Y не равные 0: '))\n",
        "x_range = []\n",
        "y_range = []\n",
        "if x > 0 and y > 0:\n",
        "  for el_1 in range(0, x+1):\n",
        "    x_range.append(el_1)\n",
        "  for el_2 in range(0, y+1):\n",
        "    y_range.append(el_2)\n",
        "  print(f'Заданная точка находится в I четверти плоскости, диапазан координт x:', (*x_range),' диапазан координт y:', (*y_range))\n",
        "elif x < 0 and y > 0:\n",
        "  for el_1 in range(x, 0+1):\n",
        "    x_range.append(el_1)\n",
        "  for el_2 in range(0, y+1):\n",
        "    y_range.append(el_2)\n",
        "  print('Заданная точка находится в II четверти плоскости, диапазан координт x:', (*x_range),' диапазан координт y:', (*y_range))\n",
        "elif x < 0 and y < 0:\n",
        "  for el_1 in range(x, 0+1):\n",
        "    x_range.append(el_1)\n",
        "  for el_2 in range(y, 0+1):\n",
        "    y_range.append(el_2)\n",
        "  print('Заданная точка находится в III четверти плоскости, диапазан координт x:', (*x_range),' диапазан координт y:', (*y_range))\n",
        "else:\n",
        "  for el_1 in range(0, x+1):\n",
        "    x_range.append(el_1)\n",
        "  for el_2 in range(y, 0+1):\n",
        "    y_range.append(el_2)\n",
        "  print('Заданная точка находится в IV четверти плоскости, диапазан координт x:', (*x_range),' диапазан координт y:', (*y_range))\n"
      ],
      "metadata": {
        "id": "T3UE-_2d3Sr3"
      },
      "execution_count": null,
      "outputs": []
    },
    {
      "cell_type": "markdown",
      "source": [
        "Напишите программу, которая принимает на вход координаты двух точек и находит расстояние между ними в 2D пространстве.\n",
        "\n",
        "Пример:\n",
        "\n",
        "- A (3,6); B (2,1) -> 5,09\n",
        "- A (7,-5); B (1,-1) -> 7,21"
      ],
      "metadata": {
        "id": "iDdHrtww96DJ"
      }
    },
    {
      "cell_type": "code",
      "source": [
        "import math\n",
        "a = (input('Введите координаты по точки A по оси x и по оси y через пробел: '))\n",
        "a = list(a.split(' '))\n",
        "a_int_list = []\n",
        "for i in a:\n",
        "    i = int(i)\n",
        "    a_int_list.append(i)\n",
        "b = (input('Введите координаты по точки B по оси x и по оси y через пробел: '))\n",
        "b = list(b.split(' '))\n",
        "b_int_list = []\n",
        "for i in b:\n",
        "    i = int(i)\n",
        "    b_int_list.append(i)\n",
        "ab = round(math.sqrt((a_int_list[0] - b_int_list[0])**2+(a_int_list[1] - b_int_list[1])**2), 2)\n",
        "print(ab)"
      ],
      "metadata": {
        "id": "V_8OZ4Xj98Hv"
      },
      "execution_count": null,
      "outputs": []
    },
    {
      "cell_type": "markdown",
      "source": [
        "# **ДЗ 2**"
      ],
      "metadata": {
        "id": "g771WQIXiikJ"
      }
    },
    {
      "cell_type": "markdown",
      "source": [
        "Напишите программу, которая принимает на вход вещественное число и показывает сумму его цифр.\n",
        "\n",
        "Пример:\n",
        "\n",
        "- 6782 -> 23\n",
        "- 0,56 -> 11"
      ],
      "metadata": {
        "id": "tkhkECtEp4Ae"
      }
    },
    {
      "cell_type": "code",
      "source": [
        "\n",
        "import re\n",
        "\n",
        "def num_sum(n):\n",
        "    n = str(n)\n",
        "    n = n.replace(',', \"\")\n",
        "    n = n.replace('.', \"\")\n",
        "    x = []\n",
        "    for el in n:\n",
        "      x.append(int(el))\n",
        "      y = sum(x)\n",
        " \n",
        "    return y\n",
        "\n",
        "num_sum(0.56)"
      ],
      "metadata": {
        "id": "SXoKKRCzp3OX"
      },
      "execution_count": null,
      "outputs": []
    },
    {
      "cell_type": "markdown",
      "source": [
        "Напишите программу, которая принимает на вход число N и выдает набор произведений чисел от 1 до N.\n",
        "\n",
        "Пример:\n",
        "\n",
        "- пусть N = 4, тогда [ 1, 2, 6, 24 ] (1, 1 * 2, 1 * 2 * 3, 1 * 2 * 3 * 4)"
      ],
      "metadata": {
        "id": "ff_yjt9vjvRC"
      }
    },
    {
      "cell_type": "code",
      "source": [
        "def sum_n(n):\n",
        "  n = int(n)\n",
        "  x = 1\n",
        "  b = []\n",
        "  for i in range(1, n +1):\n",
        "      x *= i\n",
        "      b.append(x)\n",
        "\n",
        "\n",
        "  return b\n",
        "\n",
        "sum_n(input('Введите число n: '))"
      ],
      "metadata": {
        "colab": {
          "base_uri": "https://localhost:8080/"
        },
        "id": "Iv7gNc4zjxAn",
        "outputId": "de066fb1-b911-4422-be70-e4806cb2960e"
      },
      "execution_count": null,
      "outputs": [
        {
          "name": "stdout",
          "output_type": "stream",
          "text": [
            "Введите число n: 4\n"
          ]
        },
        {
          "output_type": "execute_result",
          "data": {
            "text/plain": [
              "[1, 2, 6, 24]"
            ]
          },
          "metadata": {},
          "execution_count": 5
        }
      ]
    },
    {
      "cell_type": "markdown",
      "source": [
        "Задайте список из n чисел последовательности \"\n",
        "\n",
        "\n",
        "\n",
        "$ (1+ \\ frac {1} {n}) ^ n $\" и выведите на экран их сумму.\n",
        "\n",
        "Пример:\n",
        "\n",
        "- Для n = 6: {1: 4, 2: 7, 3: 10, 4: 13, 5: 16, 6: 19}"
      ],
      "metadata": {
        "id": "BqY-06pyreVM"
      }
    },
    {
      "cell_type": "code",
      "source": [
        "from fractions import Fraction as frac\n",
        "\n",
        "def sequence_n(n):\n",
        "  n = int(n)\n",
        "  x = 1\n",
        "  b = []\n",
        "  for i in range(1, n +1):\n",
        "      x = [(1 + \\frac{1} {i})**i)]\n",
        "      b.append(x)\n",
        "\n",
        "  return b\n",
        "\n",
        "sequence_n(input('Введите число n: '))"
      ],
      "metadata": {
        "id": "_jQG5cA_ripo"
      },
      "execution_count": null,
      "outputs": []
    },
    {
      "cell_type": "markdown",
      "source": [
        "Задайте список из N элементов, заполненных числами из промежутка [-N, N]. Найдите произведение элементов на указанных позициях. \n",
        "Позиции хранятся в файле file.txt в одной строке одно число.\n",
        "Реализуйте алгоритм перемешивания списка."
      ],
      "metadata": {
        "id": "I2ESciEawVj_"
      }
    },
    {
      "cell_type": "code",
      "source": [
        "import random\n",
        "import numpy as np\n",
        "\n",
        "def sequence_n(n):\n",
        "  n = int(n)\n",
        "  x = 1\n",
        "  b = []\n",
        "  y = []\n",
        "  for i in range(-n, n +1):\n",
        "      x = i\n",
        "      b.append(x)\n",
        "  b.remove(0)\n",
        "  y = result = np.prod(np.array(b))\n",
        "    \n",
        "  return y\n",
        "\n",
        "sequence_n(input('Введите число n: '))"
      ],
      "metadata": {
        "id": "e48E0aN3wOG9"
      },
      "execution_count": null,
      "outputs": []
    },
    {
      "cell_type": "markdown",
      "source": [
        "# **СТОРОННИЕ ЗАДАЧИ**"
      ],
      "metadata": {
        "id": "-XhVXQHx201i"
      }
    },
    {
      "cell_type": "code",
      "source": [
        "a = int(input())\n",
        "b = []\n",
        "c = 1\n",
        "for i in range(a):\n",
        "  b.append(c**i)\n",
        "print(b)"
      ],
      "metadata": {
        "id": "B58M3ubRtha5",
        "colab": {
          "base_uri": "https://localhost:8080/"
        },
        "outputId": "7bb504e8-e2c1-4e26-d4eb-57f5e4c4de16"
      },
      "execution_count": 1,
      "outputs": [
        {
          "output_type": "stream",
          "name": "stdout",
          "text": [
            "4\n",
            "[1, 1, 1, 1]\n"
          ]
        }
      ]
    },
    {
      "cell_type": "code",
      "source": [
        "# return masked string\n",
        "def maskify(cc):\n",
        "    x = cc[-4:]\n",
        "    y = len(cc)-4\n",
        "\n",
        "    return \"#\" * y + x \n",
        "\n",
        "maskify(input('Введите номер карты: '))\n",
        "#\"64607935616\" -->      \"#######5616\""
      ],
      "metadata": {
        "id": "MRTfcGJDuyth",
        "colab": {
          "base_uri": "https://localhost:8080/",
          "height": 52
        },
        "outputId": "f914d82c-6ccc-4fbd-e12a-f6ce90ab0d41"
      },
      "execution_count": null,
      "outputs": [
        {
          "name": "stdout",
          "output_type": "stream",
          "text": [
            "Введите номер карты: 8923475098237450923745\n"
          ]
        },
        {
          "output_type": "execute_result",
          "data": {
            "text/plain": [
              "'##################3745'"
            ],
            "application/vnd.google.colaboratory.intrinsic+json": {
              "type": "string"
            }
          },
          "metadata": {},
          "execution_count": 1
        }
      ]
    },
    {
      "cell_type": "code",
      "source": [
        "def generate_shape(a):\n",
        "    b = 0\n",
        "    for i in range(a):\n",
        "        x = '+' * a + '\\n'\n",
        "        i = x * a\n",
        "        b = i\n",
        "        b = b[:-1]\n",
        "        \n",
        "    return b\n",
        "\n",
        "generate_shape(6)"
      ],
      "metadata": {
        "colab": {
          "base_uri": "https://localhost:8080/",
          "height": 36
        },
        "id": "n7Urt2XrNuTO",
        "outputId": "82aabff2-2caf-4de9-a21f-4ac8a6a41659"
      },
      "execution_count": 38,
      "outputs": [
        {
          "output_type": "execute_result",
          "data": {
            "text/plain": [
              "'++++++\\n++++++\\n++++++\\n++++++\\n++++++\\n++++++'"
            ],
            "application/vnd.google.colaboratory.intrinsic+json": {
              "type": "string"
            }
          },
          "metadata": {},
          "execution_count": 38
        }
      ]
    }
  ]
}